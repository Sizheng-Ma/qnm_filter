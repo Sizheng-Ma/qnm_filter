{
 "cells": [
  {
   "cell_type": "markdown",
   "metadata": {},
   "source": [
    "# Cleaning Modes With Rational Filters"
   ]
  },
  {
   "cell_type": "code",
   "execution_count": null,
   "metadata": {},
   "outputs": [],
   "source": [
    "%matplotlib inline\n",
    "%config InlineBackend.figure_format = 'retina'"
   ]
  },
  {
   "cell_type": "code",
   "execution_count": null,
   "metadata": {},
   "outputs": [],
   "source": [
    "from joblib import Parallel, delayed\n",
    "import matplotlib.pyplot as pl\n",
    "import numpy as np\n",
    "import qnm_filter\n",
    "import sys"
   ]
  },
  {
   "cell_type": "markdown",
   "metadata": {},
   "source": [
    "## GW150914"
   ]
  },
  {
   "cell_type": "markdown",
   "metadata": {},
   "source": [
    "Download data"
   ]
  },
  {
   "cell_type": "code",
   "execution_count": null,
   "metadata": {},
   "outputs": [],
   "source": [
    "# !wget https://www.gw-openscience.org/eventapi/html/GWTC-1-confident/GW150914/v3/H-H1_GWOSC_16KHZ_R1-1126259447-32.hdf5\n",
    "# !wget https://www.gw-openscience.org/eventapi/html/GWTC-1-confident/GW150914/v3/L-L1_GWOSC_16KHZ_R1-1126259447-32.hdf5"
   ]
  },
  {
   "cell_type": "markdown",
   "metadata": {},
   "source": [
    "Set some parameters of GW150914"
   ]
  },
  {
   "cell_type": "code",
   "execution_count": null,
   "metadata": {},
   "outputs": [],
   "source": [
    "input = dict(model_list = [(2, 2, 0)], #l, m, n\n",
    "             # trucation time (geocenter, in second)\n",
    "             t_init = 1126259462.4083147+2.0*1e-3,\n",
    "             # length of the analysis window (in second)\n",
    "             window_width = 0.2,\n",
    "             # sampling rate after conditioning (in Hz)\n",
    "             srate = 2048,\n",
    "             # sky localization\n",
    "             ra = 1.95, dec = -1.27,\n",
    "             # lower limit of the high-pass filter (in Hz)\n",
    "             flow = 20)\n",
    "\n",
    "fit = qnm_filter.Network(**input)"
   ]
  },
  {
   "cell_type": "markdown",
   "metadata": {},
   "source": [
    "Load data"
   ]
  },
  {
   "cell_type": "code",
   "execution_count": null,
   "metadata": {},
   "outputs": [],
   "source": [
    "fit.import_data('H-H1_GWOSC_16KHZ_R1-1126259447-32.hdf5')\n",
    "fit.import_data('L-L1_GWOSC_16KHZ_R1-1126259447-32.hdf5')"
   ]
  },
  {
   "cell_type": "markdown",
   "metadata": {},
   "source": [
    "Perform time alignment across detectors"
   ]
  },
  {
   "cell_type": "code",
   "execution_count": null,
   "metadata": {},
   "outputs": [],
   "source": [
    "fit.detector_alignment(**input)"
   ]
  },
  {
   "cell_type": "markdown",
   "metadata": {},
   "source": [
    "Condition data "
   ]
  },
  {
   "cell_type": "code",
   "execution_count": null,
   "metadata": {},
   "outputs": [],
   "source": [
    "fit.condition_data(**input)"
   ]
  },
  {
   "cell_type": "markdown",
   "metadata": {},
   "source": [
    "Cholesky-decomposition of the covariance matrix "
   ]
  },
  {
   "cell_type": "code",
   "execution_count": null,
   "metadata": {},
   "outputs": [],
   "source": [
    "fit.compute_acfs()\n",
    "fit.cholesky_decomposition()"
   ]
  },
  {
   "cell_type": "markdown",
   "metadata": {},
   "source": [
    "## Likelihood as a function of mass and spin"
   ]
  },
  {
   "cell_type": "markdown",
   "metadata": {},
   "source": [
    "Sampling remnant mass and spin"
   ]
  },
  {
   "cell_type": "code",
   "execution_count": null,
   "metadata": {},
   "outputs": [],
   "source": [
    "chispace = np.arange(0.0, 0.95, 0.06)\n",
    "massspace = np.arange(34, 100, 2.0)\n",
    "X, Y = np.meshgrid(massspace, chispace)"
   ]
  },
  {
   "cell_type": "markdown",
   "metadata": {},
   "source": [
    "Interate over the samplings"
   ]
  },
  {
   "cell_type": "code",
   "execution_count": null,
   "metadata": {},
   "outputs": [],
   "source": [
    "finalfinal = []\n",
    "for j in chispace:\n",
    "    #A silly way to parallelize...\n",
    "    final = Parallel(-1)(delayed(fit.likelihood_vs_mass_spin)(i, j, **input) \n",
    "                         for i in massspace)\n",
    "    finalfinal.append(final)\n",
    "\n",
    "    #print the process\n",
    "    sys.stdout.write('\\r')\n",
    "    sys.stdout.write(\"[%-20s] %f%%\" % ('='*int(20*j/chispace[-1]), 100*j/chispace[-1]))\n",
    "    sys.stdout.flush()\n",
    "    \n",
    "finalfinal = np.array(finalfinal)"
   ]
  },
  {
   "cell_type": "markdown",
   "metadata": {},
   "source": [
    "Plot 2d contours"
   ]
  },
  {
   "cell_type": "code",
   "execution_count": null,
   "metadata": {
    "scrolled": false
   },
   "outputs": [],
   "source": [
    "pl.rc('figure', figsize=(6.1, 6.6))\n",
    "fig, ax = pl.subplots()\n",
    "contours = ax.contourf(X, Y, finalfinal, 20, cmap='Spectral',\n",
    "                       origin='lower', alpha=0.6, linestyles='--')\n",
    "ax.scatter(x=68.5, y=0.69, s=255, marker='+', \n",
    "           c='g', linewidths=4, label='IMR')\n",
    "\n",
    "\n",
    "# coloarbar\n",
    "cbar=fig.colorbar(contours, orientation=\"horizontal\", \n",
    "                  pad=0.15, format='%3.2f')\n",
    "cbar.set_label(r'$\\log_{10}$ likelihood', fontsize=15)\n",
    "cbar.set_ticks(np.linspace(np.min(finalfinal), np.max(finalfinal), 5))\n",
    "\n",
    "pl.xlabel(r'$M_f$', fontsize=13)\n",
    "pl.ylabel(r'$\\chi_f$', fontsize=13)\n",
    "\n",
    "# ax.set_title(r'$\\mathcal{F}_{220}+\\mathcal{F}_{221}$')"
   ]
  }
 ],
 "metadata": {
  "kernelspec": {
   "display_name": "Python 3 (ipykernel)",
   "language": "python",
   "name": "python3"
  },
  "language_info": {
   "codemirror_mode": {
    "name": "ipython",
    "version": 3
   },
   "file_extension": ".py",
   "mimetype": "text/x-python",
   "name": "python",
   "nbconvert_exporter": "python",
   "pygments_lexer": "ipython3",
   "version": "3.10.8"
  },
  "vscode": {
   "interpreter": {
    "hash": "ebec9868f9ef69c028b25f56e9563aa5fa39169247fe2a8774da8ee74c4bf44f"
   }
  }
 },
 "nbformat": 4,
 "nbformat_minor": 2
}
