{
 "cells": [
  {
   "cell_type": "markdown",
   "metadata": {},
   "source": [
    "# Cleaning Modes With Rational Filters"
   ]
  },
  {
   "cell_type": "code",
   "execution_count": 1,
   "metadata": {},
   "outputs": [],
   "source": [
    "%matplotlib inline\n",
    "%config InlineBackend.figure_format = 'retina'"
   ]
  },
  {
   "cell_type": "code",
   "execution_count": 2,
   "metadata": {},
   "outputs": [],
   "source": [
    "import matplotlib.pyplot as pl\n",
    "import numpy as np\n",
    "import qnm_filter"
   ]
  },
  {
   "cell_type": "markdown",
   "metadata": {},
   "source": [
    "## GW150914"
   ]
  },
  {
   "cell_type": "markdown",
   "metadata": {},
   "source": [
    "Download data"
   ]
  },
  {
   "cell_type": "code",
   "execution_count": 3,
   "metadata": {},
   "outputs": [],
   "source": [
    "# !wget https://www.gw-openscience.org/eventapi/html/GWTC-1-confident/GW150914/v3/H-H1_GWOSC_16KHZ_R1-1126259447-32.hdf5\n",
    "# !wget https://www.gw-openscience.org/eventapi/html/GWTC-1-confident/GW150914/v3/L-L1_GWOSC_16KHZ_R1-1126259447-32.hdf5"
   ]
  },
  {
   "cell_type": "markdown",
   "metadata": {},
   "source": [
    "Set some parameters of GW150914"
   ]
  },
  {
   "cell_type": "code",
   "execution_count": 4,
   "metadata": {},
   "outputs": [],
   "source": [
    "input = dict(model_list = [(2, 2, 0)], #l, m, n\n",
    "             # trucation time (geocenter, in second)\n",
    "             t_init = 1126259462.4083147+2.0*1e-3,\n",
    "             # length of the analysis window (in second)\n",
    "             window_width = 0.2,\n",
    "             # sampling rate after conditioning (in Hz)\n",
    "             srate = 2048,\n",
    "             # sky localization\n",
    "             ra = 1.95, dec = -1.27,\n",
    "             # lower limit of the high-pass filter (in Hz)\n",
    "             flow = 20)\n",
    "\n",
    "fit = qnm_filter.Network(**input)"
   ]
  },
  {
   "cell_type": "markdown",
   "metadata": {},
   "source": [
    "Load data"
   ]
  },
  {
   "cell_type": "code",
   "execution_count": 5,
   "metadata": {},
   "outputs": [],
   "source": [
    "fit.import_ligo_data('H-H1_GWOSC_16KHZ_R1-1126259447-32.hdf5')\n",
    "fit.import_ligo_data('L-L1_GWOSC_16KHZ_R1-1126259447-32.hdf5')"
   ]
  },
  {
   "cell_type": "markdown",
   "metadata": {},
   "source": [
    "Perform time alignment across detectors"
   ]
  },
  {
   "cell_type": "code",
   "execution_count": 6,
   "metadata": {},
   "outputs": [],
   "source": [
    "fit.detector_alignment(**input)"
   ]
  },
  {
   "cell_type": "markdown",
   "metadata": {},
   "source": [
    "Condition data "
   ]
  },
  {
   "cell_type": "code",
   "execution_count": 7,
   "metadata": {},
   "outputs": [],
   "source": [
    "fit.condition_data('original_data', **input)"
   ]
  },
  {
   "cell_type": "markdown",
   "metadata": {},
   "source": [
    "Cholesky-decomposition of the covariance matrix "
   ]
  },
  {
   "cell_type": "code",
   "execution_count": 8,
   "metadata": {},
   "outputs": [],
   "source": [
    "fit.compute_acfs('original_data')\n",
    "fit.cholesky_decomposition()"
   ]
  },
  {
   "cell_type": "markdown",
   "metadata": {},
   "source": [
    "## Likelihood as a function of mass and spin"
   ]
  },
  {
   "cell_type": "markdown",
   "metadata": {},
   "source": [
    "Sampling remnant mass and spin"
   ]
  },
  {
   "cell_type": "code",
   "execution_count": 9,
   "metadata": {},
   "outputs": [],
   "source": [
    "massspace = np.arange(34, 100, 2.0)\n",
    "chispace = np.arange(0.0, 0.95, 0.06)\n",
    "mass_grid, chi_grid = np.meshgrid(massspace, chispace)"
   ]
  },
  {
   "cell_type": "markdown",
   "metadata": {},
   "source": [
    "Interate over the samplings"
   ]
  },
  {
   "cell_type": "code",
   "execution_count": 10,
   "metadata": {
    "scrolled": true
   },
   "outputs": [
    {
     "name": "stderr",
     "output_type": "stream",
     "text": [
      "/home/neil/anaconda3/envs/ringdown/lib/python3.10/site-packages/scipy/optimize/_minpack_py.py:178: RuntimeWarning: The number of calls to function has reached maxfev = 400.\n",
      "  warnings.warn(msg, RuntimeWarning)\n"
     ]
    },
    {
     "ename": "Exception",
     "evalue": "('Wrong', array([-390.05120421]))",
     "output_type": "error",
     "traceback": [
      "\u001b[0;31m---------------------------------------------------------------------------\u001b[0m",
      "\u001b[0;31mException\u001b[0m                                 Traceback (most recent call last)",
      "Cell \u001b[0;32mIn[10], line 2\u001b[0m\n\u001b[1;32m      1\u001b[0m likelihood_data \u001b[38;5;241m=\u001b[39m qnm_filter\u001b[38;5;241m.\u001b[39mparallel_compute(fit, massspace, chispace, \u001b[38;5;241m*\u001b[39m\u001b[38;5;241m*\u001b[39m\u001b[38;5;28minput\u001b[39m)\n\u001b[0;32m----> 2\u001b[0m credible_region \u001b[38;5;241m=\u001b[39m \u001b[43mqnm_filter\u001b[49m\u001b[38;5;241;43m.\u001b[39;49m\u001b[43mfind_credible_region\u001b[49m\u001b[43m(\u001b[49m\u001b[43mlikelihood_data\u001b[49m\u001b[43m)\u001b[49m\n",
      "File \u001b[0;32m~/anaconda3/envs/ringdown/lib/python3.10/site-packages/qnm_filter/utility.py:87\u001b[0m, in \u001b[0;36mfind_credible_region\u001b[0;34m(array2d, target_probability, max_guesses, guess_step)\u001b[0m\n\u001b[1;32m     85\u001b[0m     \u001b[38;5;28;01melse\u001b[39;00m:\n\u001b[1;32m     86\u001b[0m         \u001b[38;5;28;01mreturn\u001b[39;00m res\n\u001b[0;32m---> 87\u001b[0m \u001b[38;5;28;01mraise\u001b[39;00m \u001b[38;5;167;01mException\u001b[39;00m(\u001b[38;5;124m\"\u001b[39m\u001b[38;5;124mWrong\u001b[39m\u001b[38;5;124m\"\u001b[39m,res)\n",
      "\u001b[0;31mException\u001b[0m: ('Wrong', array([-390.05120421]))"
     ]
    }
   ],
   "source": [
    "likelihood_data = qnm_filter.parallel_compute(fit, massspace, chispace, **input)\n",
    "credible_region = qnm_filter.find_credible_region(likelihood_data)"
   ]
  },
  {
   "cell_type": "markdown",
   "metadata": {},
   "source": [
    "Plot 2d contours"
   ]
  },
  {
   "cell_type": "code",
   "execution_count": null,
   "metadata": {},
   "outputs": [],
   "source": [
    "pl.rc('figure', figsize=(6.1, 6.6))\n",
    "fig, ax = pl.subplots()\n",
    "contours = ax.contourf(mass_grid, chi_grid, likelihood_data, 20, cmap='Spectral',\n",
    "                       origin='lower', alpha=0.6, linestyles='--')\n",
    "dotted = ax.contour(mass_grid, chi_grid, likelihood_data, [credible_region], colors = 'red', \\\n",
    "                   linestyles ='--')\n",
    "ax.scatter(x=68.5, y=0.69, s=255, marker='+', \n",
    "           c='g', linewidths=4, label='IMR')\n",
    "\n",
    "\n",
    "# coloarbar\n",
    "cbar=fig.colorbar(contours, orientation=\"horizontal\", \n",
    "                  pad=0.15, format='%3.2f')\n",
    "cbar.set_label(r'$\\ln$ likelihood', fontsize=15)\n",
    "cbar.set_ticks(np.linspace(np.min(likelihood_data), np.max(likelihood_data), 5))\n",
    "\n",
    "pl.xlabel(r'$M_f/M_\\odot$', fontsize=13)\n",
    "pl.ylabel(r'$\\chi_f$', fontsize=13)\n",
    "\n",
    "# ax.set_title(r'$\\mathcal{F}_{220}+\\mathcal{F}_{221}$')"
   ]
  },
  {
   "cell_type": "code",
   "execution_count": null,
   "metadata": {},
   "outputs": [],
   "source": []
  }
 ],
 "metadata": {
  "kernelspec": {
   "display_name": "Python 3 (ipykernel)",
   "language": "python",
   "name": "python3"
  },
  "language_info": {
   "codemirror_mode": {
    "name": "ipython",
    "version": 3
   },
   "file_extension": ".py",
   "mimetype": "text/x-python",
   "name": "python",
   "nbconvert_exporter": "python",
   "pygments_lexer": "ipython3",
   "version": "3.10.8"
  },
  "vscode": {
   "interpreter": {
    "hash": "236a18f57664c4a3314ce26115238b3f0494f13767fdf0b170f50f0b80057e9e"
   }
  }
 },
 "nbformat": 4,
 "nbformat_minor": 2
}
