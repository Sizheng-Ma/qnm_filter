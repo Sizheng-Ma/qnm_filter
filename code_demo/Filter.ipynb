{
 "cells": [
  {
   "cell_type": "markdown",
   "metadata": {},
   "source": [
    "# Cleaning Modes With Rational Filters"
   ]
  },
  {
   "cell_type": "code",
   "execution_count": 1,
   "metadata": {},
   "outputs": [],
   "source": [
    "%matplotlib inline\n",
    "%config InlineBackend.figure_format = 'retina'"
   ]
  },
  {
   "cell_type": "code",
   "execution_count": 2,
   "metadata": {},
   "outputs": [],
   "source": [
    "from joblib import Parallel, delayed\n",
    "import matplotlib.pyplot as pl\n",
    "import numpy as np\n",
    "import qnm_filter\n",
    "import sys"
   ]
  },
  {
   "cell_type": "markdown",
   "metadata": {},
   "source": [
    "## GW150914"
   ]
  },
  {
   "cell_type": "markdown",
   "metadata": {},
   "source": [
    "Download data"
   ]
  },
  {
   "cell_type": "code",
   "execution_count": 3,
   "metadata": {},
   "outputs": [],
   "source": [
    "# !wget https://www.gw-openscience.org/eventapi/html/GWTC-1-confident/GW150914/v3/H-H1_GWOSC_16KHZ_R1-1126259447-32.hdf5\n",
    "# !wget https://www.gw-openscience.org/eventapi/html/GWTC-1-confident/GW150914/v3/L-L1_GWOSC_16KHZ_R1-1126259447-32.hdf5"
   ]
  },
  {
   "cell_type": "markdown",
   "metadata": {},
   "source": [
    "Set some parameters of GW150914"
   ]
  },
  {
   "cell_type": "code",
   "execution_count": 4,
   "metadata": {},
   "outputs": [],
   "source": [
    "input = dict(model_list = [(2, 2, 0)], #l, m, n\n",
    "             # trucation time (geocenter, in second)\n",
    "             t_init = 1126259462.4083147+2.0*1e-3,\n",
    "             # length of the analysis window (in second)\n",
    "             window_width = 0.2,\n",
    "             # sampling rate after conditioning (in Hz)\n",
    "             srate = 2048,\n",
    "             # sky localization\n",
    "             ra = 1.95, dec = -1.27,\n",
    "             # lower limit of the high-pass filter (in Hz)\n",
    "             flow = 20)\n",
    "\n",
    "fit = qnm_filter.Network(**input)"
   ]
  },
  {
   "cell_type": "markdown",
   "metadata": {},
   "source": [
    "Load data"
   ]
  },
  {
   "cell_type": "code",
   "execution_count": 5,
   "metadata": {},
   "outputs": [],
   "source": [
    "fit.import_ligo_data('H-H1_GWOSC_16KHZ_R1-1126259447-32.hdf5')\n",
    "fit.import_ligo_data('L-L1_GWOSC_16KHZ_R1-1126259447-32.hdf5')"
   ]
  },
  {
   "cell_type": "markdown",
   "metadata": {},
   "source": [
    "Perform time alignment across detectors"
   ]
  },
  {
   "cell_type": "code",
   "execution_count": 6,
   "metadata": {},
   "outputs": [],
   "source": [
    "fit.detector_alignment(**input)"
   ]
  },
  {
   "cell_type": "markdown",
   "metadata": {},
   "source": [
    "Condition data "
   ]
  },
  {
   "cell_type": "code",
   "execution_count": 7,
   "metadata": {},
   "outputs": [],
   "source": [
    "fit.condition_data('original_data', **input)"
   ]
  },
  {
   "cell_type": "markdown",
   "metadata": {},
   "source": [
    "Cholesky-decomposition of the covariance matrix "
   ]
  },
  {
   "cell_type": "code",
   "execution_count": 8,
   "metadata": {
    "scrolled": true
   },
   "outputs": [],
   "source": [
    "fit.compute_acfs('conditioned_data')\n",
    "fit.cholesky_decomposition()"
   ]
  },
  {
   "cell_type": "markdown",
   "metadata": {},
   "source": [
    "## Likelihood as a function of mass and spin"
   ]
  },
  {
   "cell_type": "markdown",
   "metadata": {},
   "source": [
    "Sampling remnant mass and spin"
   ]
  },
  {
   "cell_type": "code",
   "execution_count": 9,
   "metadata": {},
   "outputs": [],
   "source": [
    "chispace = np.arange(0.0, 0.95, 0.06)\n",
    "massspace = np.arange(34, 100, 2.0)\n",
    "X, Y = np.meshgrid(massspace, chispace)"
   ]
  },
  {
   "cell_type": "markdown",
   "metadata": {},
   "source": [
    "Interate over the samplings"
   ]
  },
  {
   "cell_type": "code",
   "execution_count": null,
   "metadata": {},
   "outputs": [],
   "source": [
    "finalfinal = qnm_filter.parallel_compute(fit.likelihood_vs_mass_spin, massspace, chispace, kwargs = input, show_time = True)"
   ]
  },
  {
   "cell_type": "markdown",
   "metadata": {},
   "source": [
    "Plot 2d contours"
   ]
  },
  {
   "cell_type": "code",
   "execution_count": null,
   "metadata": {
    "scrolled": false
   },
   "outputs": [],
   "source": [
    "qnm_filter.plotter(X, Y, finalfinal, show = True, **input)\n",
    "\n",
    "# ax.set_title(r'$\\mathcal{F}_{220}+\\mathcal{F}_{221}$')"
   ]
  },
  {
   "cell_type": "code",
   "execution_count": null,
   "metadata": {},
   "outputs": [],
   "source": []
  }
 ],
 "metadata": {
  "kernelspec": {
   "display_name": "Python 3 (ipykernel)",
   "language": "python",
   "name": "python3"
  },
  "language_info": {
   "codemirror_mode": {
    "name": "ipython",
    "version": 3
   },
   "file_extension": ".py",
   "mimetype": "text/x-python",
   "name": "python",
   "nbconvert_exporter": "python",
   "pygments_lexer": "ipython3",
   "version": "3.10.8"
  },
  "vscode": {
   "interpreter": {
    "hash": "236a18f57664c4a3314ce26115238b3f0494f13767fdf0b170f50f0b80057e9e"
   }
  }
 },
 "nbformat": 4,
 "nbformat_minor": 2
}
