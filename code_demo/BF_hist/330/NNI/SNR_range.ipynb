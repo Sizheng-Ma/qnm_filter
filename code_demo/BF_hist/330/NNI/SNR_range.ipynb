{
 "cells": [
  {
   "cell_type": "code",
   "execution_count": 1,
   "id": "3f54c2d7",
   "metadata": {
    "ExecuteTime": {
     "end_time": "2024-05-03T14:22:07.058479Z",
     "start_time": "2024-05-03T14:22:03.696166Z"
    }
   },
   "outputs": [],
   "source": [
    "import matplotlib.pyplot as pl\n",
    "import numpy as np\n",
    "import random\n",
    "import qnm_filter\n",
    "import qnm\n",
    "import random"
   ]
  },
  {
   "cell_type": "code",
   "execution_count": 2,
   "id": "593ee5e5",
   "metadata": {
    "ExecuteTime": {
     "end_time": "2024-05-03T14:22:07.064508Z",
     "start_time": "2024-05-03T14:22:07.061124Z"
    }
   },
   "outputs": [],
   "source": [
    "mmax = 8.4 * 1e-21"
   ]
  },
  {
   "cell_type": "code",
   "execution_count": 13,
   "id": "24e6377c",
   "metadata": {
    "ExecuteTime": {
     "end_time": "2024-05-03T14:24:01.574643Z",
     "start_time": "2024-05-03T14:24:01.566120Z"
    }
   },
   "outputs": [],
   "source": [
    "def signal_creator():\n",
    "    # Creates a waveform \n",
    "    global signal, signal220, signal330, t_range, mass, injected\n",
    "    mass_in_solar = 100\n",
    "    chi_inject = 0.4\n",
    "    injected = (mass_in_solar, chi_inject)\n",
    "    mass = qnm_filter.Filter.mass_unit(injected[0]) # converts between time in M and seconds\n",
    "    omega220 = qnm.modes_cache(s=-2,l=2,m=2,n=0)(a=injected[1])[0]\n",
    "    omega330 = qnm.modes_cache(s=-2,l=3,m=3,n=0)(a=injected[1])[0]\n",
    "\n",
    "    mmax = 8.4 * 1e-21 #Normalisation factor useful for colored noise injections\n",
    "    phase1 = 0\n",
    "    A220x = mmax*np.cos(phase1)\n",
    "    A220y = mmax*np.sin(phase1)\n",
    "    phase2 = 0\n",
    "    A330x = mmax*np.cos(phase2)\n",
    "    A330y = mmax*np.sin(phase2)\n",
    "\n",
    "    amp_frac = 0.5\n",
    "    amp220 = amp_frac\n",
    "    amp330 = 1-amp_frac\n",
    "\n",
    "    sampling_frequency = 4096 * 1  # in Hz\n",
    "    duration = 4  # in second\n",
    "    t_range = np.arange(-duration / 2, duration / 2, 1 / sampling_frequency)\n",
    "    signal220 = np.real(amp220 * (A220x + 1j * A220y) * np.exp(-1j * omega220 * np.abs(t_range / mass)))\n",
    "    signal330 = np.real(amp330 * (A330x + 1j * A330y) * np.exp(-1j * omega330 * np.abs(t_range / mass)))\n",
    "  \n",
    "    signal = signal220+signal330"
   ]
  },
  {
   "cell_type": "code",
   "execution_count": 14,
   "id": "7dad34fe",
   "metadata": {
    "ExecuteTime": {
     "end_time": "2024-05-03T14:24:01.757728Z",
     "start_time": "2024-05-03T14:24:01.748526Z"
    }
   },
   "outputs": [],
   "source": [
    "def injection_evidence(acf_scale):\n",
    "    fit = qnm_filter.Network(segment_length=0.2, srate=4096 * 1, t_init=3*mass)\n",
    "    fit.original_data['H1'] = qnm_filter.RealData(signal, index=t_range)\n",
    "    fit.detector_alignment()\n",
    "    fit.condition_data('original_data', remove_mean=False)\n",
    "    fit.compute_acfs('original_data')\n",
    "    temp_acf = np.full(len(fit.acfs['H1']), 0, dtype = np.double)\n",
    "    temp_acf[0] = (mmax)**2*acf_scale\n",
    "    fit.acfs['H1'] = qnm_filter.RealData(temp_acf, index = fit.acfs['H1'].index)\n",
    "    fit.cholesky_decomposition()\n",
    "    fit.first_index()\n",
    "\n",
    "    fit.add_filter(mass = injected[0], chi = injected[1], model_list = [(2,2,0,'p')])\n",
    "    template = fit.truncate_data(fit.filtered_data)['H1']\n",
    "    SNR330_res = fit.compute_SNR(None, template, 'H1', optimal=True)\n",
    "    \n",
    "    fit.original_data['H1'] = qnm_filter.RealData(signal330, index=t_range)\n",
    "    fit.condition_data('original_data', remove_mean=False)\n",
    "    template = fit.truncate_data(fit.original_data)['H1']\n",
    "    SNR330 = fit.compute_SNR(None, template, 'H1', optimal=True)\n",
    "    \n",
    "    fit.original_data['H1'] = qnm_filter.RealData(signal220+signal330, index=t_range)\n",
    "    fit.condition_data('original_data', remove_mean=False)\n",
    "    template = fit.truncate_data(fit.original_data)['H1']\n",
    "    SNRtot = fit.compute_SNR(None, template, 'H1', optimal=True)\n",
    "    return np.array([SNRtot, SNR330_res, SNR330])"
   ]
  },
  {
   "cell_type": "code",
   "execution_count": 20,
   "id": "d707de6c",
   "metadata": {
    "ExecuteTime": {
     "end_time": "2024-05-03T16:58:49.339595Z",
     "start_time": "2024-05-03T16:58:46.923119Z"
    }
   },
   "outputs": [],
   "source": [
    "noise_space = np.power(np.linspace(3e0, 5e1, 50), -2) #np.power(np.logspace(-2.5, -2, 150),2)\n",
    "temp_arr = []\n",
    "\n",
    "for i in noise_space:\n",
    "    signal_creator()\n",
    "    temp_arr.append(injection_evidence(i))\n",
    "\n",
    "temp_arr = np.asarray(temp_arr)"
   ]
  },
  {
   "cell_type": "code",
   "execution_count": 21,
   "id": "bad666a0",
   "metadata": {
    "ExecuteTime": {
     "end_time": "2024-05-03T16:58:49.544802Z",
     "start_time": "2024-05-03T16:58:49.342868Z"
    }
   },
   "outputs": [
    {
     "data": {
      "text/plain": [
       "[<matplotlib.lines.Line2D at 0x7fc54f7bdfc0>,\n",
       " <matplotlib.lines.Line2D at 0x7fc54f7be080>,\n",
       " <matplotlib.lines.Line2D at 0x7fc54f7be170>]"
      ]
     },
     "execution_count": 21,
     "metadata": {},
     "output_type": "execute_result"
    },
    {
     "data": {
      "image/png": "[encoded data removed]",
      "text/plain": [
       "<Figure size 640x480 with 1 Axes>"
      ]
     },
     "metadata": {},
     "output_type": "display_data"
    }
   ],
   "source": [
    "pl.plot(temp_arr, 'o')\n",
    "# pl.ylim(0, 30)"
   ]
  },
  {
   "cell_type": "code",
   "execution_count": 44,
   "id": "88eaded7",
   "metadata": {
    "ExecuteTime": {
     "end_time": "2024-04-29T13:46:35.243171Z",
     "start_time": "2024-04-29T13:46:35.047205Z"
    }
   },
   "outputs": [
    {
     "data": {
      "text/plain": [
       "(array([16.,  8., 11.,  2.,  4.,  4.,  0.,  4.,  0.,  1.]),\n",
       " array([ 0.05215094,  3.68747826,  7.32280557, 10.95813288, 14.5934602 ,\n",
       "        18.22878751, 21.86411482, 25.49944214, 29.13476945, 32.77009676,\n",
       "        36.40542407]),\n",
       " <BarContainer object of 10 artists>)"
      ]
     },
     "execution_count": 44,
     "metadata": {},
     "output_type": "execute_result"
    },
    {
     "data": {
      "image/png": "[encoded data removed]",
      "text/plain": [
       "<Figure size 640x480 with 1 Axes>"
      ]
     },
     "metadata": {},
     "output_type": "display_data"
    }
   ],
   "source": [
    "pl.hist(temp_arr)"
   ]
  },
  {
   "cell_type": "code",
   "execution_count": null,
   "id": "c515fbb0",
   "metadata": {},
   "outputs": [],
   "source": []
  }
 ],
 "metadata": {
  "kernelspec": {
   "display_name": "Python 3 (ipykernel)",
   "language": "python",
   "name": "python3"
  },
  "language_info": {
   "codemirror_mode": {
    "name": "ipython",
    "version": 3
   },
   "file_extension": ".py",
   "mimetype": "text/x-python",
   "name": "python",
   "nbconvert_exporter": "python",
   "pygments_lexer": "ipython3",
   "version": "3.10.8"
  },
  "toc": {
   "base_numbering": 1,
   "nav_menu": {},
   "number_sections": true,
   "sideBar": true,
   "skip_h1_title": true,
   "title_cell": "Table of Contents",
   "title_sidebar": "Contents",
   "toc_cell": false,
   "toc_position": {},
   "toc_section_display": true,
   "toc_window_display": false
  }
 },
 "nbformat": 4,
 "nbformat_minor": 5
}
