{
 "cells": [
  {
   "cell_type": "code",
   "execution_count": 1,
   "id": "3f54c2d7",
   "metadata": {
    "ExecuteTime": {
     "end_time": "2024-05-02T10:47:58.656069Z",
     "start_time": "2024-05-02T10:47:55.769957Z"
    }
   },
   "outputs": [],
   "source": [
    "import matplotlib.pyplot as pl\n",
    "import numpy as np\n",
    "import random\n",
    "import qnm_filter\n",
    "import qnm\n",
    "import random"
   ]
  },
  {
   "cell_type": "code",
   "execution_count": 2,
   "id": "593ee5e5",
   "metadata": {
    "ExecuteTime": {
     "end_time": "2024-05-02T10:47:58.661948Z",
     "start_time": "2024-05-02T10:47:58.658893Z"
    }
   },
   "outputs": [],
   "source": [
    "mmax = 8.4 * 1e-21"
   ]
  },
  {
   "cell_type": "code",
   "execution_count": 28,
   "id": "24e6377c",
   "metadata": {
    "ExecuteTime": {
     "end_time": "2024-05-02T11:01:55.885115Z",
     "start_time": "2024-05-02T11:01:55.876241Z"
    }
   },
   "outputs": [],
   "source": [
    "def signal_creator():\n",
    "    # Creates a waveform \n",
    "    global signal, signal220, signal221, t_range, mass, injected\n",
    "    mass_in_solar = 100 # random.uniform(40, 120)\n",
    "    chi_inject = 0.4\n",
    "    injected = (mass_in_solar, chi_inject)\n",
    "    mass = qnm_filter.Filter.mass_unit(injected[0]) # converts between time in M and seconds\n",
    "    omega220 = qnm.modes_cache(s=-2,l=2,m=2,n=0)(a=injected[1])[0]\n",
    "    omega221 = qnm.modes_cache(s=-2,l=2,m=2,n=1)(a=injected[1])[0]\n",
    "\n",
    "    mmax = 8.4 * 1e-21 #Normalisation factor useful for colored noise injections\n",
    "    phase1 = 0\n",
    "    A220x = mmax*np.cos(phase1)\n",
    "    A220y = mmax*np.sin(phase1)\n",
    "    phase2 = 0\n",
    "    A221x = mmax*np.cos(phase2)\n",
    "    A221y = mmax*np.sin(phase2)\n",
    "\n",
    "    amp_frac = 0.5\n",
    "    amp220 = amp_frac\n",
    "    amp221 = 1-amp_frac\n",
    "\n",
    "    sampling_frequency = 4096 * 1  # in Hz\n",
    "    duration = 4  # in second\n",
    "    t_range = np.arange(-duration / 2, duration / 2, 1 / sampling_frequency)\n",
    "    signal220 = np.real(amp220 * (A220x + 1j * A220y) * np.exp(-1j * omega220 * np.abs(t_range / mass)))\n",
    "    signal221 = np.real(amp221 * (A221x + 1j * A221y) * np.exp(-1j * omega221 * np.abs(t_range / mass)))\n",
    "  \n",
    "    signal = signal220+signal221"
   ]
  },
  {
   "cell_type": "code",
   "execution_count": 29,
   "id": "7dad34fe",
   "metadata": {
    "ExecuteTime": {
     "end_time": "2024-05-02T11:01:56.086827Z",
     "start_time": "2024-05-02T11:01:56.076257Z"
    }
   },
   "outputs": [],
   "source": [
    "def injection_evidence(acf_scale):\n",
    "    fit = qnm_filter.Network(segment_length=0.2, srate=4096 * 1, t_init=3*mass)\n",
    "    fit.original_data['H1'] = qnm_filter.RealData(signal, index=t_range)\n",
    "    fit.detector_alignment()\n",
    "    fit.condition_data('original_data', remove_mean=False)\n",
    "    fit.compute_acfs('original_data')\n",
    "    temp_acf = np.full(len(fit.acfs['H1']), 0, dtype = np.double)\n",
    "    temp_acf[0] = (mmax)**2*acf_scale\n",
    "    fit.acfs['H1'] = qnm_filter.RealData(temp_acf, index = fit.acfs['H1'].index)\n",
    "    fit.cholesky_decomposition()\n",
    "    fit.first_index()\n",
    "     \n",
    "    fit.original_data['H1'] = qnm_filter.RealData(signal220, index=t_range)\n",
    "    fit.condition_data('original_data', remove_mean=False)\n",
    "    template = fit.truncate_data(fit.original_data)['H1']\n",
    "    SNR220 = fit.compute_SNR(None, template, 'H1', optimal=True)\n",
    "    \n",
    "    fit.original_data['H1'] = qnm_filter.RealData(signal221, index=t_range)\n",
    "    fit.condition_data('original_data', remove_mean=False)\n",
    "    template = fit.truncate_data(fit.original_data)['H1']\n",
    "    SNR221 = fit.compute_SNR(None, template, 'H1', optimal=True)\n",
    "    \n",
    "    fit.original_data['H1'] = qnm_filter.RealData(signal220+signal221, index=t_range)\n",
    "    fit.condition_data('original_data', remove_mean=False)\n",
    "    template = fit.truncate_data(fit.original_data)['H1']\n",
    "    SNRtot = fit.compute_SNR(None, template, 'H1', optimal=True)\n",
    "    return SNR221"
   ]
  },
  {
   "cell_type": "code",
   "execution_count": 30,
   "id": "b51a8ca0",
   "metadata": {
    "ExecuteTime": {
     "end_time": "2024-05-02T11:01:56.539055Z",
     "start_time": "2024-05-02T11:01:56.529886Z"
    }
   },
   "outputs": [],
   "source": [
    "signal_creator()"
   ]
  },
  {
   "cell_type": "code",
   "execution_count": 22,
   "id": "630b748e",
   "metadata": {
    "ExecuteTime": {
     "end_time": "2024-05-02T10:52:09.825211Z",
     "start_time": "2024-05-02T10:52:09.799082Z"
    }
   },
   "outputs": [],
   "source": [
    "acf_scale = 1e2**(-2)\n",
    "\n",
    "fit = qnm_filter.Network(segment_length=0.2, srate=4096 * 1, t_init=3*mass)\n",
    "fit.original_data['H1'] = qnm_filter.RealData(signal, index=t_range)\n",
    "fit.detector_alignment()\n",
    "fit.condition_data('original_data', remove_mean=False)\n",
    "fit.compute_acfs('original_data')\n",
    "temp_acf = np.full(len(fit.acfs['H1']), 0, dtype = np.double)\n",
    "temp_acf[0] = (mmax)**2*acf_scale\n",
    "fit.acfs['H1'] = qnm_filter.RealData(temp_acf, index = fit.acfs['H1'].index)\n",
    "fit.cholesky_decomposition()\n",
    "fit.first_index()"
   ]
  },
  {
   "cell_type": "code",
   "execution_count": 23,
   "id": "c515fbb0",
   "metadata": {
    "ExecuteTime": {
     "end_time": "2024-05-02T10:52:10.298264Z",
     "start_time": "2024-05-02T10:52:10.286884Z"
    }
   },
   "outputs": [
    {
     "name": "stdout",
     "output_type": "stream",
     "text": [
      "108.00275574130326\n"
     ]
    }
   ],
   "source": [
    "fit.original_data['H1'] = qnm_filter.RealData(signal220+signal221, index=t_range)\n",
    "fit.condition_data('original_data', remove_mean=False)\n",
    "template = fit.truncate_data(fit.original_data)['H1']\n",
    "SNRtot = fit.compute_SNR(None, template, 'H1', optimal=True)\n",
    "print(SNRtot)"
   ]
  },
  {
   "cell_type": "code",
   "execution_count": 32,
   "id": "ee985b35",
   "metadata": {
    "ExecuteTime": {
     "end_time": "2024-05-02T11:02:11.164830Z",
     "start_time": "2024-05-02T11:02:11.149631Z"
    }
   },
   "outputs": [
    {
     "name": "stdout",
     "output_type": "stream",
     "text": [
      "10.971925545159339\n"
     ]
    }
   ],
   "source": [
    "fit.add_filter(mass = injected[0], chi = injected[1], model_list = [(2,2,0,'p')])\n",
    "template = fit.truncate_data(fit.filtered_data)['H1']\n",
    "SNRfilt = fit.compute_SNR(None, template, 'H1', optimal=True)\n",
    "print(SNRfilt)"
   ]
  },
  {
   "cell_type": "code",
   "execution_count": 59,
   "id": "110134d6",
   "metadata": {
    "ExecuteTime": {
     "end_time": "2024-05-02T11:17:58.403143Z",
     "start_time": "2024-05-02T11:17:58.392140Z"
    }
   },
   "outputs": [],
   "source": [
    "phi = 0\n",
    "\n",
    "w220, _, _ = qnm.modes_cache(s=-2,l=2,m=2,n=0)(a=injected[1])\n",
    "w221, _, _ = qnm.modes_cache(s=-2,l=2,m=2,n=1)(a=injected[1])\n",
    "omega220 = np.real(w220)\n",
    "tau220 = -1/np.imag(w220)\n",
    "omega221 = np.real(w221)\n",
    "tau221 = -1/np.imag(w221)\n",
    "filt = (w221-w220)/(w221-np.conj(w220))*(w221+np.conj(w220))/(w221+w220)\n",
    "B = np.abs(filt)\n",
    "psi = np.arccos(np.real(filt))"
   ]
  },
  {
   "cell_type": "code",
   "execution_count": 73,
   "id": "3f79a30d",
   "metadata": {
    "ExecuteTime": {
     "end_time": "2024-05-02T11:32:38.609311Z",
     "start_time": "2024-05-02T11:32:38.604004Z"
    }
   },
   "outputs": [
    {
     "data": {
      "text/plain": [
       "0.0018605472660185416"
      ]
     },
     "execution_count": 73,
     "metadata": {},
     "output_type": "execute_result"
    }
   ],
   "source": [
    "tau221*mass"
   ]
  },
  {
   "cell_type": "code",
   "execution_count": 78,
   "id": "0af59d85",
   "metadata": {
    "ExecuteTime": {
     "end_time": "2024-05-02T11:34:07.966702Z",
     "start_time": "2024-05-02T11:34:07.753434Z"
    }
   },
   "outputs": [
    {
     "name": "stderr",
     "output_type": "stream",
     "text": [
      "/tmp/ipykernel_101299/253196001.py:3: RuntimeWarning: overflow encountered in exp\n",
      "  analytical_waveform = amp*B*np.exp(-(t_range/(tau221*mass)))*np.cos((omega221/mass)*t_range+psi)\n"
     ]
    },
    {
     "data": {
      "text/plain": [
       "(-0.05, 0.05)"
      ]
     },
     "execution_count": 78,
     "metadata": {},
     "output_type": "execute_result"
    },
    {
     "data": {
      "image/png": "[encoded data removed]",
      "text/plain": [
       "<Figure size 640x480 with 1 Axes>"
      ]
     },
     "metadata": {},
     "output_type": "display_data"
    }
   ],
   "source": [
    "amp = (0.5*mmax)\n",
    "fit.original_data['H1'] = qnm_filter.RealData(signal221, index=t_range)\n",
    "analytical_waveform = amp*B*np.exp(-(t_range/(tau221*mass)))*np.cos((omega221/mass)*t_range+psi)\n",
    "analytical_waveform[t_range>0] = 0\n",
    "\n",
    "fit.filtered_data['H1'].plot()\n",
    "fit.original_data['H1'].plot()\n",
    "pl.plot(t_range, analytical_waveform)\n",
    "# pl.axvline(0, c='r', ls='--')\n",
    "pl.xlim(-0.05, 0.05)"
   ]
  },
  {
   "cell_type": "code",
   "execution_count": null,
   "id": "d893012e",
   "metadata": {},
   "outputs": [],
   "source": [
    "test = fit.filtered_data['H1'].values\n",
    "test[fit.filtered_data['H1'].index<0] = 0\n",
    "np.sum(test**2)"
   ]
  },
  {
   "cell_type": "code",
   "execution_count": 60,
   "id": "7bb13220",
   "metadata": {
    "ExecuteTime": {
     "end_time": "2024-05-02T11:17:58.587257Z",
     "start_time": "2024-05-02T11:17:58.582771Z"
    }
   },
   "outputs": [],
   "source": [
    "def SNRres_calc(omega, tau, phi, psi, B):\n",
    "    temp0 = B**2*tau/(4+4*tau**2*omega**2)\n",
    "    temp1 = 1+tau**2*omega**2+np.cos(2*(phi+psi))-tau*omega*np.sin(2*(phi+psi))\n",
    "    return temp0/temp1"
   ]
  },
  {
   "cell_type": "code",
   "execution_count": 65,
   "id": "b85ea6cf",
   "metadata": {
    "ExecuteTime": {
     "end_time": "2024-05-02T11:23:17.652377Z",
     "start_time": "2024-05-02T11:23:17.646929Z"
    }
   },
   "outputs": [
    {
     "data": {
      "text/plain": [
       "6.601773985278516e-43"
      ]
     },
     "execution_count": 65,
     "metadata": {},
     "output_type": "execute_result"
    }
   ],
   "source": [
    "SNRres_calc(omega221, tau221, 0, psi, B)*(0.5*mmax)**2"
   ]
  },
  {
   "cell_type": "code",
   "execution_count": null,
   "id": "d47e2607",
   "metadata": {},
   "outputs": [],
   "source": []
  },
  {
   "cell_type": "code",
   "execution_count": null,
   "id": "7bbe0419",
   "metadata": {},
   "outputs": [],
   "source": []
  },
  {
   "cell_type": "code",
   "execution_count": null,
   "id": "5c15ba88",
   "metadata": {},
   "outputs": [],
   "source": [
    "def RF_calc(chi, phi=0):\n",
    "    w220, _, _ = qnm.modes_cache(s=-2,l=2,m=2,n=0)(a=chi)\n",
    "    w221, _, _ = qnm.modes_cache(s=-2,l=2,m=2,n=1)(a=chi)\n",
    "    omega220 = np.real(w220)\n",
    "    tau220 = 1/np.imag(w220)\n",
    "    filt = (w221-w220)/(w221-np.conj(w220))*(w221+np.conj(w220))/(w221+w220)\n",
    "    B = np.abs(filt)\n",
    "    psi = np.arccos(np.real(filt))\n",
    "    RF = B**2*(1+tau220**2*omega220**2+np.cos(2*(phi+psi))-omega220*tau220*np.sin(2*(phi+psi))/(1+tau220**2*omega220**2+np.cos(2*phi)-tau220*omega220*np.sin(2*phi)))\n",
    "    return RF, B"
   ]
  }
 ],
 "metadata": {
  "kernelspec": {
   "display_name": "Python 3 (ipykernel)",
   "language": "python",
   "name": "python3"
  },
  "language_info": {
   "codemirror_mode": {
    "name": "ipython",
    "version": 3
   },
   "file_extension": ".py",
   "mimetype": "text/x-python",
   "name": "python",
   "nbconvert_exporter": "python",
   "pygments_lexer": "ipython3",
   "version": "3.10.8"
  },
  "toc": {
   "base_numbering": 1,
   "nav_menu": {},
   "number_sections": true,
   "sideBar": true,
   "skip_h1_title": true,
   "title_cell": "Table of Contents",
   "title_sidebar": "Contents",
   "toc_cell": false,
   "toc_position": {},
   "toc_section_display": true,
   "toc_window_display": false
  }
 },
 "nbformat": 4,
 "nbformat_minor": 5
}
