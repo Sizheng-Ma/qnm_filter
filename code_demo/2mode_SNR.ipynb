{
 "cells": [
  {
   "cell_type": "code",
   "execution_count": 13,
   "id": "56f9e8a7",
   "metadata": {
    "ExecuteTime": {
     "end_time": "2024-03-19T06:12:34.358564Z",
     "start_time": "2024-03-19T06:12:34.350367Z"
    }
   },
   "outputs": [],
   "source": [
    "%matplotlib inline\n",
    "%config InlineBackend.figure_format = 'retina'"
   ]
  },
  {
   "cell_type": "code",
   "execution_count": 18,
   "id": "5e42f812",
   "metadata": {
    "ExecuteTime": {
     "end_time": "2024-03-19T06:13:29.529645Z",
     "start_time": "2024-03-19T06:13:29.524252Z"
    }
   },
   "outputs": [],
   "source": [
    "import numpy as np\n",
    "import matplotlib.pyplot as pl\n",
    "import qnm_filter\n",
    "import qnm\n",
    "import random\n",
    "import astropy.constants as c\n",
    "T_MSUN = c.M_sun.value * c.G.value / c.c.value**3"
   ]
  },
  {
   "cell_type": "code",
   "execution_count": 15,
   "id": "3ce25ffb",
   "metadata": {
    "ExecuteTime": {
     "end_time": "2024-03-19T06:12:34.857643Z",
     "start_time": "2024-03-19T06:12:34.854135Z"
    }
   },
   "outputs": [],
   "source": [
    "srate = 4096*4\n",
    "t_range=np.arange(-1,1,1/srate)\n",
    "input = dict(model_list = [(2,2,0, 'p')],\n",
    "             t_init = 0,\n",
    "             segment_length = 0.2,\n",
    "             srate = srate,\n",
    "             ra = None, dec = None,)"
   ]
  },
  {
   "cell_type": "code",
   "execution_count": 30,
   "id": "215cee1e",
   "metadata": {
    "ExecuteTime": {
     "end_time": "2024-03-19T06:44:28.905206Z",
     "start_time": "2024-03-19T06:44:28.884280Z"
    }
   },
   "outputs": [],
   "source": [
    "sampling_frequency = 4096 * 1  # in Hz\n",
    "duration = 8  # in second\n",
    "t_range = np.arange(-duration / 2, duration / 2, 1 / sampling_frequency)\n",
    "\n",
    "mmax = 8.4 * 1e-21\n",
    "phase1 = random.uniform(0, 2 * np.pi)\n",
    "A220x = mmax * np.cos(phase1)\n",
    "A220y = mmax * np.sin(phase1)\n",
    "phase2 = random.uniform(0, 2 * np.pi)\n",
    "A221x = mmax * np.cos(phase2)\n",
    "A221y = mmax * np.sin(phase2)\n",
    "\n",
    "power220 = random.uniform(0.005, 0.3)\n",
    "power221 = random.uniform(0.005, 0.3)\n",
    "amp220 = np.sqrt(power220)\n",
    "amp221 = np.sqrt(power221)\n",
    "signal220 = np.real(amp220 * (A220x+1j*A220y) * np.exp(-1j * omega220 * np.abs(t_range / mass)))\n",
    "signal221 = np.real(amp221 * (A221x + 1j * A221y) * np.exp(-1j * omega221 * np.abs(t_range / mass)))\n",
    "signal = signal220 + signal221\n",
    "\n",
    "#Loop use to be here:\n",
    "bilby_ifo = qnm_filter.set_bilby_predefined_ifo(\n",
    "\"H1\", sampling_frequency, duration, start_time=-duration / 2\n",
    ")\n",
    "signalH_noise = qnm_filter.bilby_get_strain(bilby_ifo, 0.0)\t\n",
    "signalH_no_noise = qnm_filter.RealData(signal, index=t_range, ifo=\"H1\")\n",
    "signalH = signalH_no_noise + signalH_noise"
   ]
  },
  {
   "cell_type": "code",
   "execution_count": 31,
   "id": "56d8db42",
   "metadata": {
    "ExecuteTime": {
     "end_time": "2024-03-19T06:44:29.243874Z",
     "start_time": "2024-03-19T06:44:29.228102Z"
    }
   },
   "outputs": [],
   "source": [
    "fit = qnm_filter.Network(segment_length=0.2, srate=4096 * 1, t_init=3.0 * mass)\n",
    "fit.original_data[\"H1\"] = signalH\n",
    "fit.detector_alignment()\n",
    "fit.pure_noise = {}\n",
    "fit.pure_noise[\"H1\"] = signalH_noise\n",
    "fit.pure_nr = {}\n",
    "fit.pure_nr[\"H1\"] = signalH_no_noise\n",
    "\n",
    "fit.condition_data(\"original_data\")\n",
    "fit.condition_data(\"pure_noise\")\n",
    "fit.condition_data(\"pure_nr\")\n",
    "fit.compute_acfs(\"pure_noise\")\n",
    "fit.cholesky_decomposition()\n",
    "fit.first_index()"
   ]
  },
  {
   "cell_type": "code",
   "execution_count": 39,
   "id": "d7ef35e8",
   "metadata": {
    "ExecuteTime": {
     "end_time": "2024-03-19T06:55:53.303424Z",
     "start_time": "2024-03-19T06:55:53.295538Z"
    }
   },
   "outputs": [],
   "source": [
    "data = fit.truncate_data(fit.original_data)['H1']\n",
    "fit.pure_nr = {}\n",
    "\n",
    "fit.pure_nr[\"H1\"] = qnm_filter.RealData(signal220+signal221, index=t_range, ifo=\"H1\")\n",
    "fit.condition_data(\"pure_nr\")\n",
    "template_both = fit.truncate_data(fit.pure_nr)[\"H1\"]\n",
    "\n",
    "fit.pure_nr[\"H1\"] = qnm_filter.RealData(signal220, index=t_range, ifo=\"H1\")\n",
    "fit.condition_data(\"pure_nr\")\n",
    "template_220 = fit.truncate_data(fit.pure_nr)[\"H1\"]\n",
    "\n",
    "fit.pure_nr[\"H1\"] = qnm_filter.RealData(signal221, index=t_range, ifo=\"H1\")\n",
    "fit.condition_data(\"pure_nr\")\n",
    "template_221 = fit.truncate_data(fit.pure_nr)[\"H1\"]"
   ]
  },
  {
   "cell_type": "code",
   "execution_count": 44,
   "id": "093db16a",
   "metadata": {
    "ExecuteTime": {
     "end_time": "2024-03-19T06:58:01.061486Z",
     "start_time": "2024-03-19T06:58:01.048151Z"
    }
   },
   "outputs": [
    {
     "data": {
      "text/plain": [
       "47.21609950534888"
      ]
     },
     "execution_count": 44,
     "metadata": {},
     "output_type": "execute_result"
    }
   ],
   "source": [
    "import scipy.linalg as sl\n",
    "template_w = sl.cho_solve((fit.cholesky_L['H1'], True), template_both)\n",
    "snr_opt = np.sqrt(np.dot(template_both, template_w))\n",
    "\n",
    "template_w = sl.cho_solve((fit.cholesky_L['H1'], True), template_220)\n",
    "np.dot(data, template_w)/snr_opt"
   ]
  },
  {
   "cell_type": "code",
   "execution_count": 45,
   "id": "f07f6296",
   "metadata": {
    "ExecuteTime": {
     "end_time": "2024-03-19T06:58:05.384316Z",
     "start_time": "2024-03-19T06:58:05.375601Z"
    }
   },
   "outputs": [
    {
     "data": {
      "text/plain": [
       "14.80006891320511"
      ]
     },
     "execution_count": 45,
     "metadata": {},
     "output_type": "execute_result"
    }
   ],
   "source": [
    "template_w = sl.cho_solve((fit.cholesky_L['H1'], True), template_221)\n",
    "np.dot(data, template_w)/snr_opt"
   ]
  },
  {
   "cell_type": "code",
   "execution_count": 46,
   "id": "5a6fa0f4",
   "metadata": {
    "ExecuteTime": {
     "end_time": "2024-03-19T06:58:08.276152Z",
     "start_time": "2024-03-19T06:58:08.270996Z"
    }
   },
   "outputs": [
    {
     "data": {
      "text/plain": [
       "61.61776444850105"
      ]
     },
     "execution_count": 46,
     "metadata": {},
     "output_type": "execute_result"
    }
   ],
   "source": [
    "snr_opt"
   ]
  },
  {
   "cell_type": "code",
   "execution_count": 32,
   "id": "e581bcb4",
   "metadata": {
    "ExecuteTime": {
     "end_time": "2024-03-19T06:44:29.713930Z",
     "start_time": "2024-03-19T06:44:29.701800Z"
    }
   },
   "outputs": [
    {
     "data": {
      "text/plain": [
       "62.0161684185541"
      ]
     },
     "execution_count": 32,
     "metadata": {},
     "output_type": "execute_result"
    }
   ],
   "source": [
    "fit.pure_nr = {}\n",
    "fit.pure_nr[\"H1\"] = qnm_filter.RealData(signal220+signal221, index=t_range, ifo=\"H1\")\n",
    "fit.condition_data(\"pure_nr\")\n",
    "template = fit.truncate_data(fit.pure_nr)[\"H1\"]\n",
    "data = fit.truncate_data(fit.original_data)['H1']\n",
    "\n",
    "SNR = fit.compute_SNR(data, template, 'H1', optimal=False)\n",
    "SNR"
   ]
  },
  {
   "cell_type": "code",
   "execution_count": 35,
   "id": "3d8e6bfa",
   "metadata": {
    "ExecuteTime": {
     "end_time": "2024-03-19T06:44:41.583889Z",
     "start_time": "2024-03-19T06:44:41.576462Z"
    }
   },
   "outputs": [
    {
     "data": {
      "text/plain": [
       "61.28558611711551"
      ]
     },
     "execution_count": 35,
     "metadata": {},
     "output_type": "execute_result"
    }
   ],
   "source": [
    "fit.pure_nr = {}\n",
    "fit.pure_nr[\"H1\"] = qnm_filter.RealData(signal220, index=t_range, ifo=\"H1\")\n",
    "fit.condition_data(\"pure_nr\")\n",
    "template = fit.truncate_data(fit.pure_nr)[\"H1\"]\n",
    "data = fit.truncate_data(fit.original_data)['H1']\n",
    "\n",
    "SNR = fit.compute_SNR(data, template, 'H1', optimal=False)\n",
    "SNR"
   ]
  },
  {
   "cell_type": "code",
   "execution_count": 33,
   "id": "f9455b0b",
   "metadata": {
    "ExecuteTime": {
     "end_time": "2024-03-19T06:44:30.467806Z",
     "start_time": "2024-03-19T06:44:30.457294Z"
    }
   },
   "outputs": [
    {
     "data": {
      "text/plain": [
       "58.08381210122607"
      ]
     },
     "execution_count": 33,
     "metadata": {},
     "output_type": "execute_result"
    }
   ],
   "source": [
    "fit.pure_nr = {}\n",
    "fit.pure_nr[\"H1\"] = qnm_filter.RealData(signal221, index=t_range, ifo=\"H1\")\n",
    "fit.condition_data(\"pure_nr\")\n",
    "template = fit.truncate_data(fit.pure_nr)[\"H1\"]\n",
    "data = fit.truncate_data(fit.original_data)['H1']\n",
    "\n",
    "SNR = fit.compute_SNR(data, template, 'H1', optimal=False)\n",
    "SNR"
   ]
  },
  {
   "cell_type": "code",
   "execution_count": null,
   "id": "ecbbc4b2",
   "metadata": {},
   "outputs": [],
   "source": [
    "    def compute_SNR(self, data, template, ifo, optimal) -> float:\n",
    "        \"\"\"Compute matched-filter/optimal SNR.\n",
    "\n",
    "        Parameters\n",
    "        ----------\n",
    "        data : ndarray\n",
    "            Time-series data\n",
    "        template : ndarray\n",
    "            Ringdown template\n",
    "        ifo : string\n",
    "            Name of interferometer\n",
    "        optimal: bool\n",
    "            Compute optimal SNR\n",
    "        \"\"\"\n",
    "        template_w = sl.cho_solve((self.cholesky_L[ifo], True), template)\n",
    "        snr_opt = np.sqrt(np.dot(template, template_w))\n",
    "        if optimal:\n",
    "            return snr_opt\n",
    "        else:\n",
    "            snr = np.dot(data, template_w) / snr_opt\n",
    "            return snr\n"
   ]
  }
 ],
 "metadata": {
  "kernelspec": {
   "display_name": "Python 3 (ipykernel)",
   "language": "python",
   "name": "python3"
  },
  "language_info": {
   "codemirror_mode": {
    "name": "ipython",
    "version": 3
   },
   "file_extension": ".py",
   "mimetype": "text/x-python",
   "name": "python",
   "nbconvert_exporter": "python",
   "pygments_lexer": "ipython3",
   "version": "3.10.8"
  },
  "toc": {
   "base_numbering": 1,
   "nav_menu": {
    "height": "125.994px",
    "width": "160.17px"
   },
   "number_sections": false,
   "sideBar": true,
   "skip_h1_title": false,
   "title_cell": "Table of Contents",
   "title_sidebar": "Contents",
   "toc_cell": false,
   "toc_position": {
    "height": "calc(100% - 180px)",
    "left": "10px",
    "top": "150px",
    "width": "165px"
   },
   "toc_section_display": true,
   "toc_window_display": false
  }
 },
 "nbformat": 4,
 "nbformat_minor": 5
}
